{
 "cells": [
  {
   "cell_type": "code",
   "execution_count": 1,
   "metadata": {
    "collapsed": true,
    "ExecuteTime": {
     "end_time": "2023-12-24T10:54:49.937900083Z",
     "start_time": "2023-12-24T10:54:48.092220648Z"
    }
   },
   "outputs": [],
   "source": [
    "import pandas as pd\n",
    "import matplotlib.pyplot as plt"
   ]
  },
  {
   "cell_type": "code",
   "execution_count": 2,
   "outputs": [],
   "source": [
    "newfile = pd.read_csv(\"/Net/Groups/BSI/work_scratch/ppapastefanou/temp/static/AT-Neu_s_1990-2021.dat\", delim_whitespace = True, header=0, skiprows = [1])\n",
    "oldfile = pd.read_csv('/Net/Groups/BSI/data/quincy/input/point/FLUXNET3/met_forcing/AT-Neu_s_2002-2012.dat', delim_whitespace = True, header=0, skiprows = [1])"
   ],
   "metadata": {
    "collapsed": false,
    "ExecuteTime": {
     "end_time": "2023-12-24T10:54:51.510218530Z",
     "start_time": "2023-12-24T10:54:49.928122007Z"
    }
   }
  },
  {
   "cell_type": "code",
   "execution_count": 3,
   "outputs": [
    {
     "data": {
      "text/plain": "        year  doy  hour  swvis_srf_down  lw_srf_down     t_air   q_air  \\\n0       1990    1   0.0          0.0566     188.9368  263.3046  1.6780   \n1       1990    1   0.5          0.0566     188.9368  263.3046  1.6780   \n2       1990    1   1.0          0.0566     193.5478  263.1859  1.7305   \n3       1990    1   1.5          0.0566     193.5478  263.1859  1.7305   \n4       1990    1   2.0          0.0566     192.4699  263.0795  1.7722   \n...      ...  ...   ...             ...          ...       ...     ...   \n560635  2021  365  21.5          0.0566     221.8954  277.3551  4.5616   \n560636  2021  365  22.0          0.0566     221.6259  277.2478  4.5494   \n560637  2021  365  22.5          0.0566     221.6259  277.2478  4.5494   \n560638  2021  365  23.0          0.0566     221.9153  277.4645  4.5340   \n560639  2021  365  23.5          0.0566     221.9153  277.4645  4.5340   \n\n        press_srf  rain  snow  wind_air  co2_mixing_ratio  co2_dC13  co2DC14  \\\n0        910.3470   0.0   0.0    0.5182            353.27     -7.86    152.2   \n1        910.3470   0.0   0.0    0.5182            353.27     -7.86    152.2   \n2        910.0283   0.0   0.0    0.5115            353.27     -7.86    152.2   \n3        910.0283   0.0   0.0    0.5115            353.27     -7.86    152.2   \n4        909.6744   0.0   0.0    0.4623            353.27     -7.86    152.2   \n...           ...   ...   ...       ...               ...       ...      ...   \n560635   916.8311   0.0   0.0    0.6010            414.26     -8.60    -15.1   \n560636   917.1927   0.0   0.0    0.5449            414.26     -8.60    -15.1   \n560637   917.1927   0.0   0.0    0.5449            414.26     -8.60    -15.1   \n560638   917.3152   0.0   0.0    0.5199            414.26     -8.60    -15.1   \n560639   917.3152   0.0   0.0    0.5199            414.26     -8.60    -15.1   \n\n        nhx_srf_down  noy_srf_down  p_srf_down  \n0              1.428        1.0994      0.0207  \n1              1.428        1.0994      0.0207  \n2              1.428        1.0994      0.0207  \n3              1.428        1.0994      0.0207  \n4              1.428        1.0994      0.0207  \n...              ...           ...         ...  \n560635         2.522        0.8562      0.0207  \n560636         2.522        0.8562      0.0207  \n560637         2.522        0.8562      0.0207  \n560638         2.522        0.8562      0.0207  \n560639         2.522        0.8562      0.0207  \n\n[560640 rows x 17 columns]",
      "text/html": "<div>\n<style scoped>\n    .dataframe tbody tr th:only-of-type {\n        vertical-align: middle;\n    }\n\n    .dataframe tbody tr th {\n        vertical-align: top;\n    }\n\n    .dataframe thead th {\n        text-align: right;\n    }\n</style>\n<table border=\"1\" class=\"dataframe\">\n  <thead>\n    <tr style=\"text-align: right;\">\n      <th></th>\n      <th>year</th>\n      <th>doy</th>\n      <th>hour</th>\n      <th>swvis_srf_down</th>\n      <th>lw_srf_down</th>\n      <th>t_air</th>\n      <th>q_air</th>\n      <th>press_srf</th>\n      <th>rain</th>\n      <th>snow</th>\n      <th>wind_air</th>\n      <th>co2_mixing_ratio</th>\n      <th>co2_dC13</th>\n      <th>co2DC14</th>\n      <th>nhx_srf_down</th>\n      <th>noy_srf_down</th>\n      <th>p_srf_down</th>\n    </tr>\n  </thead>\n  <tbody>\n    <tr>\n      <th>0</th>\n      <td>1990</td>\n      <td>1</td>\n      <td>0.0</td>\n      <td>0.0566</td>\n      <td>188.9368</td>\n      <td>263.3046</td>\n      <td>1.6780</td>\n      <td>910.3470</td>\n      <td>0.0</td>\n      <td>0.0</td>\n      <td>0.5182</td>\n      <td>353.27</td>\n      <td>-7.86</td>\n      <td>152.2</td>\n      <td>1.428</td>\n      <td>1.0994</td>\n      <td>0.0207</td>\n    </tr>\n    <tr>\n      <th>1</th>\n      <td>1990</td>\n      <td>1</td>\n      <td>0.5</td>\n      <td>0.0566</td>\n      <td>188.9368</td>\n      <td>263.3046</td>\n      <td>1.6780</td>\n      <td>910.3470</td>\n      <td>0.0</td>\n      <td>0.0</td>\n      <td>0.5182</td>\n      <td>353.27</td>\n      <td>-7.86</td>\n      <td>152.2</td>\n      <td>1.428</td>\n      <td>1.0994</td>\n      <td>0.0207</td>\n    </tr>\n    <tr>\n      <th>2</th>\n      <td>1990</td>\n      <td>1</td>\n      <td>1.0</td>\n      <td>0.0566</td>\n      <td>193.5478</td>\n      <td>263.1859</td>\n      <td>1.7305</td>\n      <td>910.0283</td>\n      <td>0.0</td>\n      <td>0.0</td>\n      <td>0.5115</td>\n      <td>353.27</td>\n      <td>-7.86</td>\n      <td>152.2</td>\n      <td>1.428</td>\n      <td>1.0994</td>\n      <td>0.0207</td>\n    </tr>\n    <tr>\n      <th>3</th>\n      <td>1990</td>\n      <td>1</td>\n      <td>1.5</td>\n      <td>0.0566</td>\n      <td>193.5478</td>\n      <td>263.1859</td>\n      <td>1.7305</td>\n      <td>910.0283</td>\n      <td>0.0</td>\n      <td>0.0</td>\n      <td>0.5115</td>\n      <td>353.27</td>\n      <td>-7.86</td>\n      <td>152.2</td>\n      <td>1.428</td>\n      <td>1.0994</td>\n      <td>0.0207</td>\n    </tr>\n    <tr>\n      <th>4</th>\n      <td>1990</td>\n      <td>1</td>\n      <td>2.0</td>\n      <td>0.0566</td>\n      <td>192.4699</td>\n      <td>263.0795</td>\n      <td>1.7722</td>\n      <td>909.6744</td>\n      <td>0.0</td>\n      <td>0.0</td>\n      <td>0.4623</td>\n      <td>353.27</td>\n      <td>-7.86</td>\n      <td>152.2</td>\n      <td>1.428</td>\n      <td>1.0994</td>\n      <td>0.0207</td>\n    </tr>\n    <tr>\n      <th>...</th>\n      <td>...</td>\n      <td>...</td>\n      <td>...</td>\n      <td>...</td>\n      <td>...</td>\n      <td>...</td>\n      <td>...</td>\n      <td>...</td>\n      <td>...</td>\n      <td>...</td>\n      <td>...</td>\n      <td>...</td>\n      <td>...</td>\n      <td>...</td>\n      <td>...</td>\n      <td>...</td>\n      <td>...</td>\n    </tr>\n    <tr>\n      <th>560635</th>\n      <td>2021</td>\n      <td>365</td>\n      <td>21.5</td>\n      <td>0.0566</td>\n      <td>221.8954</td>\n      <td>277.3551</td>\n      <td>4.5616</td>\n      <td>916.8311</td>\n      <td>0.0</td>\n      <td>0.0</td>\n      <td>0.6010</td>\n      <td>414.26</td>\n      <td>-8.60</td>\n      <td>-15.1</td>\n      <td>2.522</td>\n      <td>0.8562</td>\n      <td>0.0207</td>\n    </tr>\n    <tr>\n      <th>560636</th>\n      <td>2021</td>\n      <td>365</td>\n      <td>22.0</td>\n      <td>0.0566</td>\n      <td>221.6259</td>\n      <td>277.2478</td>\n      <td>4.5494</td>\n      <td>917.1927</td>\n      <td>0.0</td>\n      <td>0.0</td>\n      <td>0.5449</td>\n      <td>414.26</td>\n      <td>-8.60</td>\n      <td>-15.1</td>\n      <td>2.522</td>\n      <td>0.8562</td>\n      <td>0.0207</td>\n    </tr>\n    <tr>\n      <th>560637</th>\n      <td>2021</td>\n      <td>365</td>\n      <td>22.5</td>\n      <td>0.0566</td>\n      <td>221.6259</td>\n      <td>277.2478</td>\n      <td>4.5494</td>\n      <td>917.1927</td>\n      <td>0.0</td>\n      <td>0.0</td>\n      <td>0.5449</td>\n      <td>414.26</td>\n      <td>-8.60</td>\n      <td>-15.1</td>\n      <td>2.522</td>\n      <td>0.8562</td>\n      <td>0.0207</td>\n    </tr>\n    <tr>\n      <th>560638</th>\n      <td>2021</td>\n      <td>365</td>\n      <td>23.0</td>\n      <td>0.0566</td>\n      <td>221.9153</td>\n      <td>277.4645</td>\n      <td>4.5340</td>\n      <td>917.3152</td>\n      <td>0.0</td>\n      <td>0.0</td>\n      <td>0.5199</td>\n      <td>414.26</td>\n      <td>-8.60</td>\n      <td>-15.1</td>\n      <td>2.522</td>\n      <td>0.8562</td>\n      <td>0.0207</td>\n    </tr>\n    <tr>\n      <th>560639</th>\n      <td>2021</td>\n      <td>365</td>\n      <td>23.5</td>\n      <td>0.0566</td>\n      <td>221.9153</td>\n      <td>277.4645</td>\n      <td>4.5340</td>\n      <td>917.3152</td>\n      <td>0.0</td>\n      <td>0.0</td>\n      <td>0.5199</td>\n      <td>414.26</td>\n      <td>-8.60</td>\n      <td>-15.1</td>\n      <td>2.522</td>\n      <td>0.8562</td>\n      <td>0.0207</td>\n    </tr>\n  </tbody>\n</table>\n<p>560640 rows × 17 columns</p>\n</div>"
     },
     "execution_count": 3,
     "metadata": {},
     "output_type": "execute_result"
    }
   ],
   "source": [
    "newfile"
   ],
   "metadata": {
    "collapsed": false,
    "ExecuteTime": {
     "end_time": "2023-12-24T10:54:51.560538091Z",
     "start_time": "2023-12-24T10:54:51.511578338Z"
    }
   }
  },
  {
   "cell_type": "code",
   "execution_count": 4,
   "outputs": [
    {
     "data": {
      "text/plain": "                year            doy           hour  swvis_srf_down  \\\ncount  210240.000000  210240.000000  210240.000000   210240.000000   \nmean     2015.500000     183.000000      11.750000      135.149248   \nstd         3.452061     105.366279       6.926716      216.405283   \nmin      2010.000000       1.000000       0.000000        0.000000   \n25%      2012.750000      92.000000       5.875000        0.056600   \n50%      2015.500000     183.000000      11.750000        5.545000   \n75%      2018.250000     274.000000      17.625000      193.547000   \nmax      2021.000000     365.000000      23.500000     1119.310000   \n\n         lw_srf_down          t_air          q_air      press_srf  \\\ncount  210240.000000  210240.000000  210240.000000  210240.000000   \nmean      291.210884     280.347438       5.894354     906.468331   \nstd        49.844566       8.507643       2.700389       7.375722   \nmin       149.510000     250.801000       0.598400     872.600000   \n25%       254.518175     273.722075       3.711600     902.559200   \n50%       295.001800     280.160000       5.246950     907.362300   \n75%       328.857075     286.481400       8.113525     911.249650   \nmax       436.940000     305.595000      16.082900     926.077700   \n\n                rain      snow       wind_air  co2_mixing_ratio  \\\ncount  210240.000000  210240.0  210240.000000     210240.000000   \nmean        1.609958       0.0       1.021441        400.967500   \nstd        15.327818       0.0       0.766812          8.386449   \nmin         0.000000       0.0       0.100000        388.230000   \n25%         0.000000       0.0       0.498800        394.192500   \n50%         0.000000       0.0       0.745000        400.880000   \n75%         0.000000       0.0       1.360000        407.612500   \nmax       620.736000       0.0      11.450000        414.260000   \n\n            co2_dC13        co2DC14   nhx_srf_down   noy_srf_down  \\\ncount  210240.000000  210240.000000  210240.000000  210240.000000   \nmean       -8.455833      12.675000       2.455275       1.231156   \nstd         0.092867      17.666023       0.186856       0.303884   \nmin        -8.600000     -15.100000       2.154000       0.768300   \n25%        -8.527500      -1.350000       2.299100       0.978800   \n50%        -8.455000      12.400000       2.437300       1.162900   \n75%        -8.382500      26.150000       2.584100       1.507200   \nmax        -8.310000      41.600000       2.875200       1.833600   \n\n         p_srf_down  \ncount  2.102400e+05  \nmean   2.070000e-02  \nstd    2.836974e-14  \nmin    2.070000e-02  \n25%    2.070000e-02  \n50%    2.070000e-02  \n75%    2.070000e-02  \nmax    2.070000e-02  ",
      "text/html": "<div>\n<style scoped>\n    .dataframe tbody tr th:only-of-type {\n        vertical-align: middle;\n    }\n\n    .dataframe tbody tr th {\n        vertical-align: top;\n    }\n\n    .dataframe thead th {\n        text-align: right;\n    }\n</style>\n<table border=\"1\" class=\"dataframe\">\n  <thead>\n    <tr style=\"text-align: right;\">\n      <th></th>\n      <th>year</th>\n      <th>doy</th>\n      <th>hour</th>\n      <th>swvis_srf_down</th>\n      <th>lw_srf_down</th>\n      <th>t_air</th>\n      <th>q_air</th>\n      <th>press_srf</th>\n      <th>rain</th>\n      <th>snow</th>\n      <th>wind_air</th>\n      <th>co2_mixing_ratio</th>\n      <th>co2_dC13</th>\n      <th>co2DC14</th>\n      <th>nhx_srf_down</th>\n      <th>noy_srf_down</th>\n      <th>p_srf_down</th>\n    </tr>\n  </thead>\n  <tbody>\n    <tr>\n      <th>count</th>\n      <td>210240.000000</td>\n      <td>210240.000000</td>\n      <td>210240.000000</td>\n      <td>210240.000000</td>\n      <td>210240.000000</td>\n      <td>210240.000000</td>\n      <td>210240.000000</td>\n      <td>210240.000000</td>\n      <td>210240.000000</td>\n      <td>210240.0</td>\n      <td>210240.000000</td>\n      <td>210240.000000</td>\n      <td>210240.000000</td>\n      <td>210240.000000</td>\n      <td>210240.000000</td>\n      <td>210240.000000</td>\n      <td>2.102400e+05</td>\n    </tr>\n    <tr>\n      <th>mean</th>\n      <td>2015.500000</td>\n      <td>183.000000</td>\n      <td>11.750000</td>\n      <td>135.149248</td>\n      <td>291.210884</td>\n      <td>280.347438</td>\n      <td>5.894354</td>\n      <td>906.468331</td>\n      <td>1.609958</td>\n      <td>0.0</td>\n      <td>1.021441</td>\n      <td>400.967500</td>\n      <td>-8.455833</td>\n      <td>12.675000</td>\n      <td>2.455275</td>\n      <td>1.231156</td>\n      <td>2.070000e-02</td>\n    </tr>\n    <tr>\n      <th>std</th>\n      <td>3.452061</td>\n      <td>105.366279</td>\n      <td>6.926716</td>\n      <td>216.405283</td>\n      <td>49.844566</td>\n      <td>8.507643</td>\n      <td>2.700389</td>\n      <td>7.375722</td>\n      <td>15.327818</td>\n      <td>0.0</td>\n      <td>0.766812</td>\n      <td>8.386449</td>\n      <td>0.092867</td>\n      <td>17.666023</td>\n      <td>0.186856</td>\n      <td>0.303884</td>\n      <td>2.836974e-14</td>\n    </tr>\n    <tr>\n      <th>min</th>\n      <td>2010.000000</td>\n      <td>1.000000</td>\n      <td>0.000000</td>\n      <td>0.000000</td>\n      <td>149.510000</td>\n      <td>250.801000</td>\n      <td>0.598400</td>\n      <td>872.600000</td>\n      <td>0.000000</td>\n      <td>0.0</td>\n      <td>0.100000</td>\n      <td>388.230000</td>\n      <td>-8.600000</td>\n      <td>-15.100000</td>\n      <td>2.154000</td>\n      <td>0.768300</td>\n      <td>2.070000e-02</td>\n    </tr>\n    <tr>\n      <th>25%</th>\n      <td>2012.750000</td>\n      <td>92.000000</td>\n      <td>5.875000</td>\n      <td>0.056600</td>\n      <td>254.518175</td>\n      <td>273.722075</td>\n      <td>3.711600</td>\n      <td>902.559200</td>\n      <td>0.000000</td>\n      <td>0.0</td>\n      <td>0.498800</td>\n      <td>394.192500</td>\n      <td>-8.527500</td>\n      <td>-1.350000</td>\n      <td>2.299100</td>\n      <td>0.978800</td>\n      <td>2.070000e-02</td>\n    </tr>\n    <tr>\n      <th>50%</th>\n      <td>2015.500000</td>\n      <td>183.000000</td>\n      <td>11.750000</td>\n      <td>5.545000</td>\n      <td>295.001800</td>\n      <td>280.160000</td>\n      <td>5.246950</td>\n      <td>907.362300</td>\n      <td>0.000000</td>\n      <td>0.0</td>\n      <td>0.745000</td>\n      <td>400.880000</td>\n      <td>-8.455000</td>\n      <td>12.400000</td>\n      <td>2.437300</td>\n      <td>1.162900</td>\n      <td>2.070000e-02</td>\n    </tr>\n    <tr>\n      <th>75%</th>\n      <td>2018.250000</td>\n      <td>274.000000</td>\n      <td>17.625000</td>\n      <td>193.547000</td>\n      <td>328.857075</td>\n      <td>286.481400</td>\n      <td>8.113525</td>\n      <td>911.249650</td>\n      <td>0.000000</td>\n      <td>0.0</td>\n      <td>1.360000</td>\n      <td>407.612500</td>\n      <td>-8.382500</td>\n      <td>26.150000</td>\n      <td>2.584100</td>\n      <td>1.507200</td>\n      <td>2.070000e-02</td>\n    </tr>\n    <tr>\n      <th>max</th>\n      <td>2021.000000</td>\n      <td>365.000000</td>\n      <td>23.500000</td>\n      <td>1119.310000</td>\n      <td>436.940000</td>\n      <td>305.595000</td>\n      <td>16.082900</td>\n      <td>926.077700</td>\n      <td>620.736000</td>\n      <td>0.0</td>\n      <td>11.450000</td>\n      <td>414.260000</td>\n      <td>-8.310000</td>\n      <td>41.600000</td>\n      <td>2.875200</td>\n      <td>1.833600</td>\n      <td>2.070000e-02</td>\n    </tr>\n  </tbody>\n</table>\n</div>"
     },
     "execution_count": 4,
     "metadata": {},
     "output_type": "execute_result"
    }
   ],
   "source": [
    "newfile.loc[newfile['year'] >= 2010].describe()"
   ],
   "metadata": {
    "collapsed": false,
    "ExecuteTime": {
     "end_time": "2023-12-24T10:54:51.730023471Z",
     "start_time": "2023-12-24T10:54:51.538584271Z"
    }
   }
  },
  {
   "cell_type": "code",
   "execution_count": 15,
   "outputs": [
    {
     "data": {
      "text/plain": "               year           doy          hour  swvis_srf_down   lw_srf_down  \\\ncount  52560.000000  52560.000000  52560.000000    52560.000000  52560.000000   \nmean    2011.000000    183.000000     11.750000      136.870173    289.342078   \nstd        0.816504    105.367031      6.926765      229.778922     55.504391   \nmin     2010.000000      1.000000      0.000000        0.000000    149.510000   \n25%     2010.000000     92.000000      5.875000        0.000000    246.730000   \n50%     2011.000000    183.000000     11.750000        4.839500    292.505000   \n75%     2012.000000    274.000000     17.625000      174.380000    331.830000   \nmax     2012.000000    365.000000     23.500000     1119.310100    436.940000   \n\n              t_air         q_air     press_srf          rain     snow  \\\ncount  52560.000000  52560.000000  52560.000000  52560.000000  52560.0   \nmean     279.749622      5.974745    905.707295      1.449542      0.0   \nstd        9.183128      2.987648      7.258730      9.130741      0.0   \nmin      250.801000      0.597900    872.600000      0.000000      0.0   \n25%      273.009500      3.564475    901.800000      0.000000      0.0   \n50%      279.848500      5.281650    906.780000      0.000000      0.0   \n75%      286.460000      8.308950    910.500000      0.000000      0.0   \nmax      305.595000     16.790400    925.700000    379.200000      0.0   \n\n           wind_air  co2_mixing_ratio      co2_dC13       co2DC14  \\\ncount  52560.000000      52560.000000  52560.000000  52560.000000   \nmean       1.013317        389.886667     -8.333333     36.000000   \nstd        0.982234          1.589571      0.020548      4.789618   \nmin        0.100000        387.990000     -8.360000     29.900000   \n25%        0.310000        387.990000     -8.360000     29.900000   \n50%        0.680000        389.790000     -8.330000     36.500000   \n75%        1.370000        391.880000     -8.310000     41.600000   \nmax       11.450000        391.880000     -8.310000     41.600000   \n\n       nhx_srf_down  noy_srf_down    p_srf_down  \ncount  52560.000000  52560.000000  5.256000e+04  \nmean       2.351469      1.339320  2.070000e-02  \nstd        0.144091      0.331724  1.306953e-14  \nmin        2.154000      0.877100  2.070000e-02  \n25%        2.206400      1.072300  2.070000e-02  \n50%        2.341300      1.329900  2.070000e-02  \n75%        2.507000      1.706700  2.070000e-02  \nmax        2.640500      1.833600  2.070000e-02  ",
      "text/html": "<div>\n<style scoped>\n    .dataframe tbody tr th:only-of-type {\n        vertical-align: middle;\n    }\n\n    .dataframe tbody tr th {\n        vertical-align: top;\n    }\n\n    .dataframe thead th {\n        text-align: right;\n    }\n</style>\n<table border=\"1\" class=\"dataframe\">\n  <thead>\n    <tr style=\"text-align: right;\">\n      <th></th>\n      <th>year</th>\n      <th>doy</th>\n      <th>hour</th>\n      <th>swvis_srf_down</th>\n      <th>lw_srf_down</th>\n      <th>t_air</th>\n      <th>q_air</th>\n      <th>press_srf</th>\n      <th>rain</th>\n      <th>snow</th>\n      <th>wind_air</th>\n      <th>co2_mixing_ratio</th>\n      <th>co2_dC13</th>\n      <th>co2DC14</th>\n      <th>nhx_srf_down</th>\n      <th>noy_srf_down</th>\n      <th>p_srf_down</th>\n    </tr>\n  </thead>\n  <tbody>\n    <tr>\n      <th>count</th>\n      <td>52560.000000</td>\n      <td>52560.000000</td>\n      <td>52560.000000</td>\n      <td>52560.000000</td>\n      <td>52560.000000</td>\n      <td>52560.000000</td>\n      <td>52560.000000</td>\n      <td>52560.000000</td>\n      <td>52560.000000</td>\n      <td>52560.0</td>\n      <td>52560.000000</td>\n      <td>52560.000000</td>\n      <td>52560.000000</td>\n      <td>52560.000000</td>\n      <td>52560.000000</td>\n      <td>52560.000000</td>\n      <td>5.256000e+04</td>\n    </tr>\n    <tr>\n      <th>mean</th>\n      <td>2011.000000</td>\n      <td>183.000000</td>\n      <td>11.750000</td>\n      <td>136.870173</td>\n      <td>289.342078</td>\n      <td>279.749622</td>\n      <td>5.974745</td>\n      <td>905.707295</td>\n      <td>1.449542</td>\n      <td>0.0</td>\n      <td>1.013317</td>\n      <td>389.886667</td>\n      <td>-8.333333</td>\n      <td>36.000000</td>\n      <td>2.351469</td>\n      <td>1.339320</td>\n      <td>2.070000e-02</td>\n    </tr>\n    <tr>\n      <th>std</th>\n      <td>0.816504</td>\n      <td>105.367031</td>\n      <td>6.926765</td>\n      <td>229.778922</td>\n      <td>55.504391</td>\n      <td>9.183128</td>\n      <td>2.987648</td>\n      <td>7.258730</td>\n      <td>9.130741</td>\n      <td>0.0</td>\n      <td>0.982234</td>\n      <td>1.589571</td>\n      <td>0.020548</td>\n      <td>4.789618</td>\n      <td>0.144091</td>\n      <td>0.331724</td>\n      <td>1.306953e-14</td>\n    </tr>\n    <tr>\n      <th>min</th>\n      <td>2010.000000</td>\n      <td>1.000000</td>\n      <td>0.000000</td>\n      <td>0.000000</td>\n      <td>149.510000</td>\n      <td>250.801000</td>\n      <td>0.597900</td>\n      <td>872.600000</td>\n      <td>0.000000</td>\n      <td>0.0</td>\n      <td>0.100000</td>\n      <td>387.990000</td>\n      <td>-8.360000</td>\n      <td>29.900000</td>\n      <td>2.154000</td>\n      <td>0.877100</td>\n      <td>2.070000e-02</td>\n    </tr>\n    <tr>\n      <th>25%</th>\n      <td>2010.000000</td>\n      <td>92.000000</td>\n      <td>5.875000</td>\n      <td>0.000000</td>\n      <td>246.730000</td>\n      <td>273.009500</td>\n      <td>3.564475</td>\n      <td>901.800000</td>\n      <td>0.000000</td>\n      <td>0.0</td>\n      <td>0.310000</td>\n      <td>387.990000</td>\n      <td>-8.360000</td>\n      <td>29.900000</td>\n      <td>2.206400</td>\n      <td>1.072300</td>\n      <td>2.070000e-02</td>\n    </tr>\n    <tr>\n      <th>50%</th>\n      <td>2011.000000</td>\n      <td>183.000000</td>\n      <td>11.750000</td>\n      <td>4.839500</td>\n      <td>292.505000</td>\n      <td>279.848500</td>\n      <td>5.281650</td>\n      <td>906.780000</td>\n      <td>0.000000</td>\n      <td>0.0</td>\n      <td>0.680000</td>\n      <td>389.790000</td>\n      <td>-8.330000</td>\n      <td>36.500000</td>\n      <td>2.341300</td>\n      <td>1.329900</td>\n      <td>2.070000e-02</td>\n    </tr>\n    <tr>\n      <th>75%</th>\n      <td>2012.000000</td>\n      <td>274.000000</td>\n      <td>17.625000</td>\n      <td>174.380000</td>\n      <td>331.830000</td>\n      <td>286.460000</td>\n      <td>8.308950</td>\n      <td>910.500000</td>\n      <td>0.000000</td>\n      <td>0.0</td>\n      <td>1.370000</td>\n      <td>391.880000</td>\n      <td>-8.310000</td>\n      <td>41.600000</td>\n      <td>2.507000</td>\n      <td>1.706700</td>\n      <td>2.070000e-02</td>\n    </tr>\n    <tr>\n      <th>max</th>\n      <td>2012.000000</td>\n      <td>365.000000</td>\n      <td>23.500000</td>\n      <td>1119.310100</td>\n      <td>436.940000</td>\n      <td>305.595000</td>\n      <td>16.790400</td>\n      <td>925.700000</td>\n      <td>379.200000</td>\n      <td>0.0</td>\n      <td>11.450000</td>\n      <td>391.880000</td>\n      <td>-8.310000</td>\n      <td>41.600000</td>\n      <td>2.640500</td>\n      <td>1.833600</td>\n      <td>2.070000e-02</td>\n    </tr>\n  </tbody>\n</table>\n</div>"
     },
     "execution_count": 15,
     "metadata": {},
     "output_type": "execute_result"
    }
   ],
   "source": [
    "oldfile.loc[oldfile['year'] >= 2010].describe()"
   ],
   "metadata": {
    "collapsed": false,
    "ExecuteTime": {
     "end_time": "2023-12-23T20:06:27.218833735Z",
     "start_time": "2023-12-23T20:06:27.139707554Z"
    }
   }
  },
  {
   "cell_type": "code",
   "execution_count": null,
   "outputs": [],
   "source": [],
   "metadata": {
    "collapsed": false
   }
  },
  {
   "cell_type": "code",
   "execution_count": null,
   "outputs": [],
   "source": [
    "plt.plot(oldfile[]"
   ],
   "metadata": {
    "collapsed": false
   }
  }
 ],
 "metadata": {
  "kernelspec": {
   "display_name": "Python 3",
   "language": "python",
   "name": "python3"
  },
  "language_info": {
   "codemirror_mode": {
    "name": "ipython",
    "version": 2
   },
   "file_extension": ".py",
   "mimetype": "text/x-python",
   "name": "python",
   "nbconvert_exporter": "python",
   "pygments_lexer": "ipython2",
   "version": "2.7.6"
  }
 },
 "nbformat": 4,
 "nbformat_minor": 0
}
