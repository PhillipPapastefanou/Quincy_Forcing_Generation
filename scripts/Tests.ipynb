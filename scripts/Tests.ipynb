{
 "cells": [
  {
   "cell_type": "code",
   "execution_count": 1,
   "metadata": {
    "collapsed": true,
    "ExecuteTime": {
     "end_time": "2023-12-23T19:01:23.822805925Z",
     "start_time": "2023-12-23T19:01:22.216194361Z"
    }
   },
   "outputs": [],
   "source": [
    "import sys\n",
    "import os\n",
    "\n",
    "import pandas as pd\n",
    "\n",
    "scriptPath = os.path.realpath(os.path.dirname(sys.argv[0]))\n",
    "os.chdir(scriptPath)\n",
    "# Put the path here\n",
    "sys.path.append(\"..\")\n",
    "\n",
    "from lib.converter.Settings import Settings\n",
    "from lib.converter.Settings import Verbosity\n",
    "from lib.converter.Settings import ProjectionScenario\n",
    "from lib.converter.Quincy_fluxnet22_parser import Quincy_Fluxnet22_Parser"
   ]
  },
  {
   "cell_type": "code",
   "execution_count": 2,
   "outputs": [],
   "source": [
    "from lib.converter.Settings import Settings\n",
    "from lib.converter.Settings import Verbosity\n",
    "from lib.converter.Settings import ProjectionScenario\n",
    "from lib.converter.Quincy_fluxnet22_parser import Quincy_Fluxnet22_Parser\n",
    "\n",
    "set = Settings()\n",
    "set.co2_concentration_file = '/Net/Groups/BSI/people/ppapastefanou/climate_aux/co2/GCP2023_co2_global.dat'\n",
    "set.co2_dC13_file = '/Net/Groups/BSI/people/ppapastefanou/climate_aux/co2/delta13C_in_air_input4MIPs_GM_1850-2021_extrapolated.txt'\n",
    "set.co2_DC14_file = '/Net/Groups/BSI/people/ppapastefanou/climate_aux/co2/Delta14C_in_air_input4MIPs_SHTRNH_1850-2021_extrapolated.txt'\n",
    "\n",
    "set.root_ndep_path = \"/Net/Groups/BSI/data/OCN/input/gridded/NDEP/CESM-CAM\"\n",
    "set.ndep_projection_scenario = ProjectionScenario.RCP585\n",
    "set.root_pdep_path =\"/Net/Groups/BSI/work/quincy/model/InputDataSources/P-DEP\"\n",
    "\n",
    "set.lithology_map_path = \"/Net/Groups/BSI/data/datastructure_bgi_cpy/grid/Global/0d50_static/GLiM/v1_0/Data/GLim.720.360.nc\"\n",
    "set.soil_grid_database_path = \"/Net/Groups/BSI/data/datastructure_bgi_cpy/grid/Global/0d10_static/soilgrids/v0_5_1/Data\"\n",
    "set.phosphorus_input_path = \"/Net/Groups/BSI/data/datastructure_bgi_cpy/grid/Global/0d50_static/Phosphorous/v2014_06/Data\"\n",
    "set.qmax_file = \"/Net/Groups/BSI/people/ppapastefanou/data/qmax_org_values_per_nwrb_category_20180515.csv\"\n",
    "\n",
    "set.verbosity = Verbosity.Info\n",
    "set.root_output_path = \"/Net/Groups/BSI/work_scratch/ppapastefanou/temp\"\n",
    "set.first_transient_forcing_year = 1901\n",
    "\n",
    "root_flux_path = \"/Net/Groups/BGI/work_1/scratch/fluxcom/sitecube_proc/model_files_20231129\"\n",
    "\n",
    "os.chdir('/Net/Groups/BSI/work_scratch/ppapastefanou/src/Quincy_Forcing_Generation/applications')\n",
    "\n",
    "sites = pd.read_csv(\"Sitenames_and_PFTs.csv\")['Sitename']\n",
    "#sites = sites[1:4]\n",
    "sites = [\"AT-Neu\"]"
   ],
   "metadata": {
    "collapsed": false,
    "ExecuteTime": {
     "end_time": "2023-12-23T19:01:23.829838443Z",
     "start_time": "2023-12-23T19:01:23.824153120Z"
    }
   }
  },
  {
   "cell_type": "code",
   "execution_count": 3,
   "outputs": [
    {
     "data": {
      "text/plain": "'/Net/Groups/BSI/work_scratch/ppapastefanou/src/Quincy_Forcing_Generation/applications'"
     },
     "execution_count": 3,
     "metadata": {},
     "output_type": "execute_result"
    }
   ],
   "source": [
    "os.getcwd()"
   ],
   "metadata": {
    "collapsed": false,
    "ExecuteTime": {
     "end_time": "2023-12-23T19:01:23.849984049Z",
     "start_time": "2023-12-23T19:01:23.831813390Z"
    }
   }
  },
  {
   "cell_type": "code",
   "execution_count": null,
   "outputs": [],
   "source": [
    "from lib.base.Fluxnet22_Jake import Fluxnet2022_Jake\n",
    "\n",
    "fnet = Fluxnet2022_Jake(rtpath=root_flux_path, sitename=sites[0])\n",
    "fnet.Read_And_Parse_Time()"
   ],
   "metadata": {
    "collapsed": false,
    "is_executing": true,
    "ExecuteTime": {
     "start_time": "2023-12-23T19:01:23.848071143Z"
    }
   }
  },
  {
   "cell_type": "code",
   "execution_count": null,
   "outputs": [],
   "source": [
    "from lib.converter.Quincy_fluxnet22_forcing import Quincy_Fluxnet22_Forcing"
   ],
   "metadata": {
    "collapsed": false,
    "is_executing": true
   }
  },
  {
   "cell_type": "code",
   "execution_count": null,
   "outputs": [],
   "source": [
    "qf = Quincy_Fluxnet22_Forcing(settings=set)\n",
    "qf.Connect_to_fluxnet(fnet=fnet)\n",
    "qf.Parse_forcing()"
   ],
   "metadata": {
    "collapsed": false,
    "is_executing": true
   }
  },
  {
   "cell_type": "code",
   "execution_count": 16,
   "outputs": [
    {
     "data": {
      "text/plain": "count    560640.000000\nmean          9.829954\nstd           6.340899\nmin           0.793624\n25%           3.846309\n50%           9.670771\n75%          14.483221\nmax          23.508259\nName: noy_srf_down, dtype: float64"
     },
     "execution_count": 16,
     "metadata": {},
     "output_type": "execute_result"
    }
   ],
   "source": [
    "qf.DataFrame['noy_srf_down'].describe()"
   ],
   "metadata": {
    "collapsed": false,
    "ExecuteTime": {
     "end_time": "2023-12-23T13:22:01.682330970Z",
     "start_time": "2023-12-23T13:22:01.595697138Z"
    }
   }
  },
  {
   "cell_type": "code",
   "execution_count": 20,
   "outputs": [
    {
     "data": {
      "text/plain": "count     560640\nunique       365\ntop            1\nfreq        1536\nName: doy, dtype: int64"
     },
     "execution_count": 20,
     "metadata": {},
     "output_type": "execute_result"
    }
   ],
   "source": [
    "qf.DataFrame['doy'].describe()"
   ],
   "metadata": {
    "collapsed": false,
    "ExecuteTime": {
     "end_time": "2023-12-23T13:23:41.761844965Z",
     "start_time": "2023-12-23T13:23:41.754570824Z"
    }
   }
  },
  {
   "cell_type": "code",
   "execution_count": 23,
   "outputs": [
    {
     "data": {
      "text/plain": "count    560640.000000\nmean        183.000000\nstd         105.366123\nmin           1.000000\n25%          92.000000\n50%         183.000000\n75%         274.000000\nmax         365.000000\nName: doy, dtype: float64"
     },
     "execution_count": 23,
     "metadata": {},
     "output_type": "execute_result"
    }
   ],
   "source": [
    "qf.DataFrame['doy'].astype(int).describe()"
   ],
   "metadata": {
    "collapsed": false,
    "ExecuteTime": {
     "end_time": "2023-12-23T13:25:41.749922120Z",
     "start_time": "2023-12-23T13:25:41.733890533Z"
    }
   }
  },
  {
   "cell_type": "code",
   "execution_count": 30,
   "outputs": [
    {
     "data": {
      "text/plain": "count    560640.000000\nmean       2005.500000\nstd           9.233101\nmin        1990.000000\n25%        1997.750000\n50%        2005.500000\n75%        2013.250000\nmax        2021.000000\nName: year, dtype: float64"
     },
     "execution_count": 30,
     "metadata": {},
     "output_type": "execute_result"
    }
   ],
   "source": [
    "qf.DataFrame['year'].astype(int).describe()"
   ],
   "metadata": {
    "collapsed": false,
    "ExecuteTime": {
     "end_time": "2023-12-23T13:31:25.356205616Z",
     "start_time": "2023-12-23T13:31:25.316393858Z"
    }
   }
  },
  {
   "cell_type": "code",
   "execution_count": 1,
   "outputs": [
    {
     "data": {
      "text/plain": "7"
     },
     "execution_count": 1,
     "metadata": {},
     "output_type": "execute_result"
    }
   ],
   "source": [
    "3 +4"
   ],
   "metadata": {
    "collapsed": false,
    "ExecuteTime": {
     "end_time": "2023-12-23T14:56:45.428838816Z",
     "start_time": "2023-12-23T14:56:45.417683892Z"
    }
   }
  },
  {
   "cell_type": "code",
   "execution_count": 2,
   "outputs": [],
   "source": [
    "exit"
   ],
   "metadata": {
    "collapsed": false,
    "ExecuteTime": {
     "end_time": "2023-12-23T14:56:50.837492831Z",
     "start_time": "2023-12-23T14:56:50.818679581Z"
    }
   }
  },
  {
   "cell_type": "code",
   "execution_count": null,
   "outputs": [],
   "source": [],
   "metadata": {
    "collapsed": false
   }
  }
 ],
 "metadata": {
  "kernelspec": {
   "display_name": "Python 3",
   "language": "python",
   "name": "python3"
  },
  "language_info": {
   "codemirror_mode": {
    "name": "ipython",
    "version": 2
   },
   "file_extension": ".py",
   "mimetype": "text/x-python",
   "name": "python",
   "nbconvert_exporter": "python",
   "pygments_lexer": "ipython2",
   "version": "2.7.6"
  }
 },
 "nbformat": 4,
 "nbformat_minor": 0
}
