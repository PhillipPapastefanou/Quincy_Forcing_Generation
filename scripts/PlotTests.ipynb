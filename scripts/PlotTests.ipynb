{
 "cells": [
  {
   "cell_type": "code",
   "execution_count": 1,
   "metadata": {
    "collapsed": true,
    "ExecuteTime": {
     "end_time": "2023-12-25T10:25:02.280878199Z",
     "start_time": "2023-12-25T10:25:01.366850439Z"
    }
   },
   "outputs": [],
   "source": [
    "import sys\n",
    "import os\n",
    "\n",
    "import pandas as pd\n",
    "\n",
    "scriptPath = os.path.realpath(os.path.dirname(sys.argv[0]))\n",
    "os.chdir(scriptPath)\n",
    "# Put the path here\n",
    "sys.path.append(\"..\")\n",
    "\n",
    "from lib.converter.Settings import Settings\n",
    "from lib.converter.Settings import Verbosity\n",
    "from lib.converter.Settings import ProjectionScenario\n",
    "from lib.converter.Quincy_fluxnet22_parser import Quincy_Fluxnet22_Parser"
   ]
  },
  {
   "cell_type": "code",
   "execution_count": 2,
   "outputs": [],
   "source": [
    "from lib.converter.Settings import Settings\n",
    "from lib.converter.Settings import Verbosity\n",
    "from lib.converter.Settings import ProjectionScenario\n",
    "from lib.converter.Quincy_fluxnet22_parser import Quincy_Fluxnet22_Parser\n",
    "\n",
    "set = Settings()\n",
    "set.co2_concentration_file = '/Net/Groups/BSI/people/ppapastefanou/climate_aux/co2/GCP2023_co2_global.dat'\n",
    "set.co2_dC13_file = '/Net/Groups/BSI/people/ppapastefanou/climate_aux/co2/delta13C_in_air_input4MIPs_GM_1850-2021_extrapolated.txt'\n",
    "set.co2_DC14_file = '/Net/Groups/BSI/people/ppapastefanou/climate_aux/co2/Delta14C_in_air_input4MIPs_SHTRNH_1850-2021_extrapolated.txt'\n",
    "\n",
    "set.root_ndep_path = \"/Net/Groups/BSI/data/OCN/input/gridded/NDEP/CESM-CAM\"\n",
    "set.ndep_projection_scenario = ProjectionScenario.RCP585\n",
    "set.root_pdep_path =\"/Net/Groups/BSI/work/quincy/model/InputDataSources/P-DEP\"\n",
    "\n",
    "set.lithology_map_path = \"/Net/Groups/BSI/data/datastructure_bgi_cpy/grid/Global/0d50_static/GLiM/v1_0/Data/GLim.720.360.nc\"\n",
    "set.soil_grid_database_path = \"/Net/Groups/BSI/data/datastructure_bgi_cpy/grid/Global/0d10_static/soilgrids/v0_5_1/Data\"\n",
    "set.phosphorus_input_path = \"/Net/Groups/BSI/data/datastructure_bgi_cpy/grid/Global/0d50_static/Phosphorous/v2014_06/Data\"\n",
    "set.qmax_file = \"/Net/Groups/BSI/people/ppapastefanou/data/qmax_org_values_per_nwrb_category_20180515.csv\"\n",
    "\n",
    "set.verbosity = Verbosity.Info\n",
    "set.root_output_path = \"/Net/Groups/BSI/work_scratch/ppapastefanou/temp\"\n",
    "set.first_transient_forcing_year = 1901\n",
    "\n",
    "root_flux_path = \"/Net/Groups/BGI/work_1/scratch/fluxcom/sitecube_proc/model_files_20231129\"\n",
    "\n",
    "os.chdir('/Net/Groups/BSI/work_scratch/ppapastefanou/src/Quincy_Forcing_Generation/applications')\n",
    "\n",
    "sites = pd.read_csv(\"Sitenames_and_PFTs.csv\")['Sitename']\n",
    "#sites = sites[1:4]\n",
    "sites = [\"AT-Neu\"]"
   ],
   "metadata": {
    "collapsed": false,
    "ExecuteTime": {
     "end_time": "2023-12-25T10:25:02.297359201Z",
     "start_time": "2023-12-25T10:25:02.285117438Z"
    }
   }
  },
  {
   "cell_type": "code",
   "execution_count": 3,
   "outputs": [
    {
     "data": {
      "text/plain": "'/Net/Groups/BSI/work_scratch/ppapastefanou/src/Quincy_Forcing_Generation/applications'"
     },
     "execution_count": 3,
     "metadata": {},
     "output_type": "execute_result"
    }
   ],
   "source": [
    "os.getcwd()"
   ],
   "metadata": {
    "collapsed": false,
    "ExecuteTime": {
     "end_time": "2023-12-25T10:25:03.054919006Z",
     "start_time": "2023-12-25T10:25:03.016828624Z"
    }
   }
  },
  {
   "cell_type": "code",
   "execution_count": 4,
   "outputs": [],
   "source": [
    "from lib.base.Fluxnet22_Jake import Fluxnet2022_Jake\n",
    "\n",
    "fnet = Fluxnet2022_Jake(rtpath=root_flux_path, sitename=sites[0])\n",
    "fnet.Read_And_Parse_Time()"
   ],
   "metadata": {
    "collapsed": false,
    "ExecuteTime": {
     "end_time": "2023-12-25T10:25:44.200719461Z",
     "start_time": "2023-12-25T10:25:03.593634664Z"
    }
   }
  },
  {
   "cell_type": "code",
   "execution_count": 5,
   "outputs": [],
   "source": [
    "from lib.converter.Quincy_fluxnet22_forcing import Quincy_Fluxnet22_Forcing"
   ],
   "metadata": {
    "collapsed": false,
    "ExecuteTime": {
     "end_time": "2023-12-25T10:25:44.241989654Z",
     "start_time": "2023-12-25T10:25:44.240915011Z"
    }
   }
  },
  {
   "cell_type": "code",
   "execution_count": 6,
   "outputs": [
    {
     "name": "stdout",
     "output_type": "stream",
     "text": [
      "Read fluxnet forcing..Done! (0.1 sec.)\n",
      "Adjusting for leap years..Done! (0.0 sec.)\n",
      "Parsing fluxnet forcing..Done! (0.2 sec.)\n",
      "Parsing CO2..Done! (0.1 sec.)\n",
      "Parsing dCO2-13 and 14..Done! (0.1 sec.)\n",
      "Parsing P deposition..Done! (0.0 sec.)\n",
      "Parsing N deposition..Done! (1.0 sec.)\n",
      "Testing for missing values..Done! (0.2 sec.)\n"
     ]
    }
   ],
   "source": [
    "qf = Quincy_Fluxnet22_Forcing(settings=set)\n",
    "qf.Connect_to_fluxnet(fnet=fnet)\n",
    "qf.Parse_forcing()"
   ],
   "metadata": {
    "collapsed": false,
    "ExecuteTime": {
     "end_time": "2023-12-25T10:25:46.451989159Z",
     "start_time": "2023-12-25T10:25:44.241629480Z"
    }
   }
  },
  {
   "cell_type": "code",
   "execution_count": 7,
   "outputs": [
    {
     "data": {
      "text/plain": "                      date    SWdown      LWdown        Tair  Precip  \\\n0      1990-01-01 00:15:00  0.056567  188.936816  263.304637     0.0   \n1      1990-01-01 00:45:00  0.056567  188.936816  263.304637     0.0   \n2      1990-01-01 01:15:00  0.056567  193.547802  263.185942     0.0   \n3      1990-01-01 01:45:00  0.056567  193.547802  263.185942     0.0   \n4      1990-01-01 02:15:00  0.056567  192.469928  263.079455     0.0   \n...                    ...       ...         ...         ...     ...   \n561019 2021-12-31 21:45:00  0.056567  221.895405  277.355107     0.0   \n561020 2021-12-31 22:15:00  0.056567  221.625875  277.247783     0.0   \n561021 2021-12-31 22:45:00  0.056567  221.625875  277.247783     0.0   \n561022 2021-12-31 23:15:00  0.056567  221.915342  277.464451     0.0   \n561023 2021-12-31 23:45:00  0.056567  221.915342  277.464451     0.0   \n\n            Qair         Psurf      Wind  \n0       0.001678  91034.701850  0.518166  \n1       0.001678  91034.701850  0.518166  \n2       0.001730  91002.831969  0.511515  \n3       0.001730  91002.831969  0.511515  \n4       0.001772  90967.436438  0.462288  \n...          ...           ...       ...  \n561019  0.004562  91683.111053  0.600978  \n561020  0.004549  91719.266972  0.544857  \n561021  0.004549  91719.266972  0.544857  \n561022  0.004534  91731.521472  0.519854  \n561023  0.004534  91731.521472  0.519854  \n\n[560640 rows x 8 columns]",
      "text/html": "<div>\n<style scoped>\n    .dataframe tbody tr th:only-of-type {\n        vertical-align: middle;\n    }\n\n    .dataframe tbody tr th {\n        vertical-align: top;\n    }\n\n    .dataframe thead th {\n        text-align: right;\n    }\n</style>\n<table border=\"1\" class=\"dataframe\">\n  <thead>\n    <tr style=\"text-align: right;\">\n      <th></th>\n      <th>date</th>\n      <th>SWdown</th>\n      <th>LWdown</th>\n      <th>Tair</th>\n      <th>Precip</th>\n      <th>Qair</th>\n      <th>Psurf</th>\n      <th>Wind</th>\n    </tr>\n  </thead>\n  <tbody>\n    <tr>\n      <th>0</th>\n      <td>1990-01-01 00:15:00</td>\n      <td>0.056567</td>\n      <td>188.936816</td>\n      <td>263.304637</td>\n      <td>0.0</td>\n      <td>0.001678</td>\n      <td>91034.701850</td>\n      <td>0.518166</td>\n    </tr>\n    <tr>\n      <th>1</th>\n      <td>1990-01-01 00:45:00</td>\n      <td>0.056567</td>\n      <td>188.936816</td>\n      <td>263.304637</td>\n      <td>0.0</td>\n      <td>0.001678</td>\n      <td>91034.701850</td>\n      <td>0.518166</td>\n    </tr>\n    <tr>\n      <th>2</th>\n      <td>1990-01-01 01:15:00</td>\n      <td>0.056567</td>\n      <td>193.547802</td>\n      <td>263.185942</td>\n      <td>0.0</td>\n      <td>0.001730</td>\n      <td>91002.831969</td>\n      <td>0.511515</td>\n    </tr>\n    <tr>\n      <th>3</th>\n      <td>1990-01-01 01:45:00</td>\n      <td>0.056567</td>\n      <td>193.547802</td>\n      <td>263.185942</td>\n      <td>0.0</td>\n      <td>0.001730</td>\n      <td>91002.831969</td>\n      <td>0.511515</td>\n    </tr>\n    <tr>\n      <th>4</th>\n      <td>1990-01-01 02:15:00</td>\n      <td>0.056567</td>\n      <td>192.469928</td>\n      <td>263.079455</td>\n      <td>0.0</td>\n      <td>0.001772</td>\n      <td>90967.436438</td>\n      <td>0.462288</td>\n    </tr>\n    <tr>\n      <th>...</th>\n      <td>...</td>\n      <td>...</td>\n      <td>...</td>\n      <td>...</td>\n      <td>...</td>\n      <td>...</td>\n      <td>...</td>\n      <td>...</td>\n    </tr>\n    <tr>\n      <th>561019</th>\n      <td>2021-12-31 21:45:00</td>\n      <td>0.056567</td>\n      <td>221.895405</td>\n      <td>277.355107</td>\n      <td>0.0</td>\n      <td>0.004562</td>\n      <td>91683.111053</td>\n      <td>0.600978</td>\n    </tr>\n    <tr>\n      <th>561020</th>\n      <td>2021-12-31 22:15:00</td>\n      <td>0.056567</td>\n      <td>221.625875</td>\n      <td>277.247783</td>\n      <td>0.0</td>\n      <td>0.004549</td>\n      <td>91719.266972</td>\n      <td>0.544857</td>\n    </tr>\n    <tr>\n      <th>561021</th>\n      <td>2021-12-31 22:45:00</td>\n      <td>0.056567</td>\n      <td>221.625875</td>\n      <td>277.247783</td>\n      <td>0.0</td>\n      <td>0.004549</td>\n      <td>91719.266972</td>\n      <td>0.544857</td>\n    </tr>\n    <tr>\n      <th>561022</th>\n      <td>2021-12-31 23:15:00</td>\n      <td>0.056567</td>\n      <td>221.915342</td>\n      <td>277.464451</td>\n      <td>0.0</td>\n      <td>0.004534</td>\n      <td>91731.521472</td>\n      <td>0.519854</td>\n    </tr>\n    <tr>\n      <th>561023</th>\n      <td>2021-12-31 23:45:00</td>\n      <td>0.056567</td>\n      <td>221.915342</td>\n      <td>277.464451</td>\n      <td>0.0</td>\n      <td>0.004534</td>\n      <td>91731.521472</td>\n      <td>0.519854</td>\n    </tr>\n  </tbody>\n</table>\n<p>560640 rows × 8 columns</p>\n</div>"
     },
     "execution_count": 7,
     "metadata": {},
     "output_type": "execute_result"
    }
   ],
   "source": [
    "fnet.df\n"
   ],
   "metadata": {
    "collapsed": false,
    "ExecuteTime": {
     "end_time": "2023-12-25T10:25:46.486564305Z",
     "start_time": "2023-12-25T10:25:46.445075790Z"
    }
   }
  },
  {
   "cell_type": "code",
   "execution_count": 8,
   "outputs": [],
   "source": [
    "fnet.df.set_index('date', inplace = True)"
   ],
   "metadata": {
    "collapsed": false,
    "ExecuteTime": {
     "end_time": "2023-12-25T10:25:46.487136961Z",
     "start_time": "2023-12-25T10:25:46.464525264Z"
    }
   }
  },
  {
   "cell_type": "code",
   "execution_count": 8,
   "outputs": [],
   "source": [],
   "metadata": {
    "collapsed": false,
    "ExecuteTime": {
     "end_time": "2023-12-25T10:25:46.487371272Z",
     "start_time": "2023-12-25T10:25:46.468974044Z"
    }
   }
  },
  {
   "cell_type": "code",
   "execution_count": 8,
   "outputs": [],
   "source": [],
   "metadata": {
    "collapsed": false,
    "ExecuteTime": {
     "end_time": "2023-12-25T10:25:46.529021436Z",
     "start_time": "2023-12-25T10:25:46.471537395Z"
    }
   }
  },
  {
   "cell_type": "code",
   "execution_count": 9,
   "outputs": [],
   "source": [
    "def avg_timerange( df, freq):\n",
    "    dfs= df.groupby(pd.Grouper(freq=freq)).mean().reset_index()\n",
    "    return dfs"
   ],
   "metadata": {
    "collapsed": false,
    "ExecuteTime": {
     "end_time": "2023-12-25T10:25:46.529285545Z",
     "start_time": "2023-12-25T10:25:46.513035097Z"
    }
   }
  },
  {
   "cell_type": "code",
   "execution_count": 14,
   "outputs": [
    {
     "data": {
      "text/plain": "                       SWdown      LWdown        Tair  Precip      Qair  \\\ndate                                                                      \n1990-01-01 00:15:00  0.056567  188.936816  263.304637     0.0  0.001678   \n1990-01-01 00:45:00  0.056567  188.936816  263.304637     0.0  0.001678   \n1990-01-01 01:15:00  0.056567  193.547802  263.185942     0.0  0.001730   \n1990-01-01 01:45:00  0.056567  193.547802  263.185942     0.0  0.001730   \n1990-01-01 02:15:00  0.056567  192.469928  263.079455     0.0  0.001772   \n...                       ...         ...         ...     ...       ...   \n2021-12-31 21:45:00  0.056567  221.895405  277.355107     0.0  0.004562   \n2021-12-31 22:15:00  0.056567  221.625875  277.247783     0.0  0.004549   \n2021-12-31 22:45:00  0.056567  221.625875  277.247783     0.0  0.004549   \n2021-12-31 23:15:00  0.056567  221.915342  277.464451     0.0  0.004534   \n2021-12-31 23:45:00  0.056567  221.915342  277.464451     0.0  0.004534   \n\n                            Psurf      Wind  \ndate                                         \n1990-01-01 00:15:00  91034.701850  0.518166  \n1990-01-01 00:45:00  91034.701850  0.518166  \n1990-01-01 01:15:00  91002.831969  0.511515  \n1990-01-01 01:45:00  91002.831969  0.511515  \n1990-01-01 02:15:00  90967.436438  0.462288  \n...                           ...       ...  \n2021-12-31 21:45:00  91683.111053  0.600978  \n2021-12-31 22:15:00  91719.266972  0.544857  \n2021-12-31 22:45:00  91719.266972  0.544857  \n2021-12-31 23:15:00  91731.521472  0.519854  \n2021-12-31 23:45:00  91731.521472  0.519854  \n\n[560640 rows x 7 columns]",
      "text/html": "<div>\n<style scoped>\n    .dataframe tbody tr th:only-of-type {\n        vertical-align: middle;\n    }\n\n    .dataframe tbody tr th {\n        vertical-align: top;\n    }\n\n    .dataframe thead th {\n        text-align: right;\n    }\n</style>\n<table border=\"1\" class=\"dataframe\">\n  <thead>\n    <tr style=\"text-align: right;\">\n      <th></th>\n      <th>SWdown</th>\n      <th>LWdown</th>\n      <th>Tair</th>\n      <th>Precip</th>\n      <th>Qair</th>\n      <th>Psurf</th>\n      <th>Wind</th>\n    </tr>\n    <tr>\n      <th>date</th>\n      <th></th>\n      <th></th>\n      <th></th>\n      <th></th>\n      <th></th>\n      <th></th>\n      <th></th>\n    </tr>\n  </thead>\n  <tbody>\n    <tr>\n      <th>1990-01-01 00:15:00</th>\n      <td>0.056567</td>\n      <td>188.936816</td>\n      <td>263.304637</td>\n      <td>0.0</td>\n      <td>0.001678</td>\n      <td>91034.701850</td>\n      <td>0.518166</td>\n    </tr>\n    <tr>\n      <th>1990-01-01 00:45:00</th>\n      <td>0.056567</td>\n      <td>188.936816</td>\n      <td>263.304637</td>\n      <td>0.0</td>\n      <td>0.001678</td>\n      <td>91034.701850</td>\n      <td>0.518166</td>\n    </tr>\n    <tr>\n      <th>1990-01-01 01:15:00</th>\n      <td>0.056567</td>\n      <td>193.547802</td>\n      <td>263.185942</td>\n      <td>0.0</td>\n      <td>0.001730</td>\n      <td>91002.831969</td>\n      <td>0.511515</td>\n    </tr>\n    <tr>\n      <th>1990-01-01 01:45:00</th>\n      <td>0.056567</td>\n      <td>193.547802</td>\n      <td>263.185942</td>\n      <td>0.0</td>\n      <td>0.001730</td>\n      <td>91002.831969</td>\n      <td>0.511515</td>\n    </tr>\n    <tr>\n      <th>1990-01-01 02:15:00</th>\n      <td>0.056567</td>\n      <td>192.469928</td>\n      <td>263.079455</td>\n      <td>0.0</td>\n      <td>0.001772</td>\n      <td>90967.436438</td>\n      <td>0.462288</td>\n    </tr>\n    <tr>\n      <th>...</th>\n      <td>...</td>\n      <td>...</td>\n      <td>...</td>\n      <td>...</td>\n      <td>...</td>\n      <td>...</td>\n      <td>...</td>\n    </tr>\n    <tr>\n      <th>2021-12-31 21:45:00</th>\n      <td>0.056567</td>\n      <td>221.895405</td>\n      <td>277.355107</td>\n      <td>0.0</td>\n      <td>0.004562</td>\n      <td>91683.111053</td>\n      <td>0.600978</td>\n    </tr>\n    <tr>\n      <th>2021-12-31 22:15:00</th>\n      <td>0.056567</td>\n      <td>221.625875</td>\n      <td>277.247783</td>\n      <td>0.0</td>\n      <td>0.004549</td>\n      <td>91719.266972</td>\n      <td>0.544857</td>\n    </tr>\n    <tr>\n      <th>2021-12-31 22:45:00</th>\n      <td>0.056567</td>\n      <td>221.625875</td>\n      <td>277.247783</td>\n      <td>0.0</td>\n      <td>0.004549</td>\n      <td>91719.266972</td>\n      <td>0.544857</td>\n    </tr>\n    <tr>\n      <th>2021-12-31 23:15:00</th>\n      <td>0.056567</td>\n      <td>221.915342</td>\n      <td>277.464451</td>\n      <td>0.0</td>\n      <td>0.004534</td>\n      <td>91731.521472</td>\n      <td>0.519854</td>\n    </tr>\n    <tr>\n      <th>2021-12-31 23:45:00</th>\n      <td>0.056567</td>\n      <td>221.915342</td>\n      <td>277.464451</td>\n      <td>0.0</td>\n      <td>0.004534</td>\n      <td>91731.521472</td>\n      <td>0.519854</td>\n    </tr>\n  </tbody>\n</table>\n<p>560640 rows × 7 columns</p>\n</div>"
     },
     "execution_count": 14,
     "metadata": {},
     "output_type": "execute_result"
    }
   ],
   "source": [
    "fnet.df"
   ],
   "metadata": {
    "collapsed": false,
    "ExecuteTime": {
     "end_time": "2023-12-25T10:19:32.604104570Z",
     "start_time": "2023-12-25T10:19:32.536617926Z"
    }
   }
  },
  {
   "cell_type": "code",
   "execution_count": 28,
   "outputs": [],
   "source": [
    "fs = avg_timerange(fnet.df, '30min')"
   ],
   "metadata": {
    "collapsed": false,
    "ExecuteTime": {
     "end_time": "2023-12-25T10:23:02.522583437Z",
     "start_time": "2023-12-25T10:23:02.390953307Z"
    }
   }
  },
  {
   "cell_type": "code",
   "execution_count": 29,
   "outputs": [
    {
     "data": {
      "text/plain": "                      date    SWdown      LWdown        Tair  Precip  \\\n0      1990-01-01 00:00:00  0.056567  188.936816  263.304637     0.0   \n1      1990-01-01 00:30:00  0.056567  188.936816  263.304637     0.0   \n2      1990-01-01 01:00:00  0.056567  193.547802  263.185942     0.0   \n3      1990-01-01 01:30:00  0.056567  193.547802  263.185942     0.0   \n4      1990-01-01 02:00:00  0.056567  192.469928  263.079455     0.0   \n...                    ...       ...         ...         ...     ...   \n561019 2021-12-31 21:30:00  0.056567  221.895405  277.355107     0.0   \n561020 2021-12-31 22:00:00  0.056567  221.625875  277.247783     0.0   \n561021 2021-12-31 22:30:00  0.056567  221.625875  277.247783     0.0   \n561022 2021-12-31 23:00:00  0.056567  221.915342  277.464451     0.0   \n561023 2021-12-31 23:30:00  0.056567  221.915342  277.464451     0.0   \n\n            Qair         Psurf      Wind  \n0       0.001678  91034.701850  0.518166  \n1       0.001678  91034.701850  0.518166  \n2       0.001730  91002.831969  0.511515  \n3       0.001730  91002.831969  0.511515  \n4       0.001772  90967.436438  0.462288  \n...          ...           ...       ...  \n561019  0.004562  91683.111053  0.600978  \n561020  0.004549  91719.266972  0.544857  \n561021  0.004549  91719.266972  0.544857  \n561022  0.004534  91731.521472  0.519854  \n561023  0.004534  91731.521472  0.519854  \n\n[561024 rows x 8 columns]",
      "text/html": "<div>\n<style scoped>\n    .dataframe tbody tr th:only-of-type {\n        vertical-align: middle;\n    }\n\n    .dataframe tbody tr th {\n        vertical-align: top;\n    }\n\n    .dataframe thead th {\n        text-align: right;\n    }\n</style>\n<table border=\"1\" class=\"dataframe\">\n  <thead>\n    <tr style=\"text-align: right;\">\n      <th></th>\n      <th>date</th>\n      <th>SWdown</th>\n      <th>LWdown</th>\n      <th>Tair</th>\n      <th>Precip</th>\n      <th>Qair</th>\n      <th>Psurf</th>\n      <th>Wind</th>\n    </tr>\n  </thead>\n  <tbody>\n    <tr>\n      <th>0</th>\n      <td>1990-01-01 00:00:00</td>\n      <td>0.056567</td>\n      <td>188.936816</td>\n      <td>263.304637</td>\n      <td>0.0</td>\n      <td>0.001678</td>\n      <td>91034.701850</td>\n      <td>0.518166</td>\n    </tr>\n    <tr>\n      <th>1</th>\n      <td>1990-01-01 00:30:00</td>\n      <td>0.056567</td>\n      <td>188.936816</td>\n      <td>263.304637</td>\n      <td>0.0</td>\n      <td>0.001678</td>\n      <td>91034.701850</td>\n      <td>0.518166</td>\n    </tr>\n    <tr>\n      <th>2</th>\n      <td>1990-01-01 01:00:00</td>\n      <td>0.056567</td>\n      <td>193.547802</td>\n      <td>263.185942</td>\n      <td>0.0</td>\n      <td>0.001730</td>\n      <td>91002.831969</td>\n      <td>0.511515</td>\n    </tr>\n    <tr>\n      <th>3</th>\n      <td>1990-01-01 01:30:00</td>\n      <td>0.056567</td>\n      <td>193.547802</td>\n      <td>263.185942</td>\n      <td>0.0</td>\n      <td>0.001730</td>\n      <td>91002.831969</td>\n      <td>0.511515</td>\n    </tr>\n    <tr>\n      <th>4</th>\n      <td>1990-01-01 02:00:00</td>\n      <td>0.056567</td>\n      <td>192.469928</td>\n      <td>263.079455</td>\n      <td>0.0</td>\n      <td>0.001772</td>\n      <td>90967.436438</td>\n      <td>0.462288</td>\n    </tr>\n    <tr>\n      <th>...</th>\n      <td>...</td>\n      <td>...</td>\n      <td>...</td>\n      <td>...</td>\n      <td>...</td>\n      <td>...</td>\n      <td>...</td>\n      <td>...</td>\n    </tr>\n    <tr>\n      <th>561019</th>\n      <td>2021-12-31 21:30:00</td>\n      <td>0.056567</td>\n      <td>221.895405</td>\n      <td>277.355107</td>\n      <td>0.0</td>\n      <td>0.004562</td>\n      <td>91683.111053</td>\n      <td>0.600978</td>\n    </tr>\n    <tr>\n      <th>561020</th>\n      <td>2021-12-31 22:00:00</td>\n      <td>0.056567</td>\n      <td>221.625875</td>\n      <td>277.247783</td>\n      <td>0.0</td>\n      <td>0.004549</td>\n      <td>91719.266972</td>\n      <td>0.544857</td>\n    </tr>\n    <tr>\n      <th>561021</th>\n      <td>2021-12-31 22:30:00</td>\n      <td>0.056567</td>\n      <td>221.625875</td>\n      <td>277.247783</td>\n      <td>0.0</td>\n      <td>0.004549</td>\n      <td>91719.266972</td>\n      <td>0.544857</td>\n    </tr>\n    <tr>\n      <th>561022</th>\n      <td>2021-12-31 23:00:00</td>\n      <td>0.056567</td>\n      <td>221.915342</td>\n      <td>277.464451</td>\n      <td>0.0</td>\n      <td>0.004534</td>\n      <td>91731.521472</td>\n      <td>0.519854</td>\n    </tr>\n    <tr>\n      <th>561023</th>\n      <td>2021-12-31 23:30:00</td>\n      <td>0.056567</td>\n      <td>221.915342</td>\n      <td>277.464451</td>\n      <td>0.0</td>\n      <td>0.004534</td>\n      <td>91731.521472</td>\n      <td>0.519854</td>\n    </tr>\n  </tbody>\n</table>\n<p>561024 rows × 8 columns</p>\n</div>"
     },
     "execution_count": 29,
     "metadata": {},
     "output_type": "execute_result"
    }
   ],
   "source": [
    "fs"
   ],
   "metadata": {
    "collapsed": false,
    "ExecuteTime": {
     "end_time": "2023-12-25T10:23:03.408849846Z",
     "start_time": "2023-12-25T10:23:03.386604547Z"
    }
   }
  },
  {
   "cell_type": "code",
   "execution_count": 26,
   "outputs": [
    {
     "data": {
      "text/plain": "array([278.92145826, 278.44704901, 279.43211043, 279.10110335,\n       280.40221004, 279.14137162, 278.66820989, 279.77445705,\n       279.21634836, 279.28368226, 279.81324781, 279.41313863,\n       280.94982242, 280.32473391, 279.53436968, 278.77953483,\n       279.93474224, 280.41865811, 280.2401903 , 279.92433253,\n       279.20185103, 280.20323265, 279.84378333, 280.01218429,\n       280.84568929, 280.87480139, 280.45727526, 280.27389276,\n       281.13866884, 280.71583788, 280.7232962 , 279.87873986])"
     },
     "execution_count": 26,
     "metadata": {},
     "output_type": "execute_result"
    }
   ],
   "source": [
    "fs['Tair'].values"
   ],
   "metadata": {
    "collapsed": false,
    "ExecuteTime": {
     "end_time": "2023-12-25T10:20:47.266932426Z",
     "start_time": "2023-12-25T10:20:47.246401741Z"
    }
   }
  },
  {
   "cell_type": "code",
   "execution_count": 12,
   "outputs": [],
   "source": [
    "import matplotlib.pyplot as plt"
   ],
   "metadata": {
    "collapsed": false,
    "ExecuteTime": {
     "end_time": "2023-12-25T10:25:57.689709743Z",
     "start_time": "2023-12-25T10:25:57.121069855Z"
    }
   }
  },
  {
   "cell_type": "code",
   "execution_count": 19,
   "outputs": [
    {
     "data": {
      "text/plain": "RangeIndex(start=0, stop=32, step=1)"
     },
     "execution_count": 19,
     "metadata": {},
     "output_type": "execute_result"
    }
   ],
   "source": [
    "fs.index"
   ],
   "metadata": {
    "collapsed": false,
    "ExecuteTime": {
     "end_time": "2023-12-25T10:19:34.290566907Z",
     "start_time": "2023-12-25T10:19:34.286055Z"
    }
   }
  },
  {
   "cell_type": "code",
   "execution_count": 20,
   "outputs": [
    {
     "data": {
      "text/plain": "RangeIndex(start=0, stop=32, step=1)"
     },
     "execution_count": 20,
     "metadata": {},
     "output_type": "execute_result"
    }
   ],
   "source": [
    "fs.index"
   ],
   "metadata": {
    "collapsed": false,
    "ExecuteTime": {
     "end_time": "2023-12-25T10:19:34.318209745Z",
     "start_time": "2023-12-25T10:19:34.302978266Z"
    }
   }
  },
  {
   "cell_type": "code",
   "execution_count": 21,
   "outputs": [
    {
     "ename": "TypeError",
     "evalue": "'int' object is not subscriptable",
     "output_type": "error",
     "traceback": [
      "\u001B[0;31m---------------------------------------------------------------------------\u001B[0m",
      "\u001B[0;31mTypeError\u001B[0m                                 Traceback (most recent call last)",
      "Cell \u001B[0;32mIn[21], line 1\u001B[0m\n\u001B[0;32m----> 1\u001B[0m [fs\u001B[38;5;241m.\u001B[39mindex[i][\u001B[38;5;241m0\u001B[39m] \u001B[38;5;28;01mfor\u001B[39;00m i \u001B[38;5;129;01min\u001B[39;00m \u001B[38;5;28mrange\u001B[39m(\u001B[38;5;241m0\u001B[39m,fs\u001B[38;5;241m.\u001B[39mindex\u001B[38;5;241m.\u001B[39mshape[\u001B[38;5;241m0\u001B[39m], \u001B[38;5;241m4\u001B[39m)]\n",
      "Cell \u001B[0;32mIn[21], line 1\u001B[0m, in \u001B[0;36m<listcomp>\u001B[0;34m(.0)\u001B[0m\n\u001B[0;32m----> 1\u001B[0m [\u001B[43mfs\u001B[49m\u001B[38;5;241;43m.\u001B[39;49m\u001B[43mindex\u001B[49m\u001B[43m[\u001B[49m\u001B[43mi\u001B[49m\u001B[43m]\u001B[49m\u001B[43m[\u001B[49m\u001B[38;5;241;43m0\u001B[39;49m\u001B[43m]\u001B[49m \u001B[38;5;28;01mfor\u001B[39;00m i \u001B[38;5;129;01min\u001B[39;00m \u001B[38;5;28mrange\u001B[39m(\u001B[38;5;241m0\u001B[39m,fs\u001B[38;5;241m.\u001B[39mindex\u001B[38;5;241m.\u001B[39mshape[\u001B[38;5;241m0\u001B[39m], \u001B[38;5;241m4\u001B[39m)]\n",
      "\u001B[0;31mTypeError\u001B[0m: 'int' object is not subscriptable"
     ]
    }
   ],
   "source": [
    "[fs.index[i][0] for i in range(0,fs.index.shape[0], 4)]"
   ],
   "metadata": {
    "collapsed": false,
    "ExecuteTime": {
     "end_time": "2023-12-25T10:19:34.360226818Z",
     "start_time": "2023-12-25T10:19:34.303861889Z"
    }
   }
  },
  {
   "cell_type": "code",
   "execution_count": 13,
   "outputs": [
    {
     "ename": "NameError",
     "evalue": "name 'fs' is not defined",
     "output_type": "error",
     "traceback": [
      "\u001B[0;31m---------------------------------------------------------------------------\u001B[0m",
      "\u001B[0;31mNameError\u001B[0m                                 Traceback (most recent call last)",
      "Cell \u001B[0;32mIn[13], line 3\u001B[0m\n\u001B[1;32m      1\u001B[0m fig \u001B[38;5;241m=\u001B[39m plt\u001B[38;5;241m.\u001B[39mfigure(figsize\u001B[38;5;241m=\u001B[39m(\u001B[38;5;241m10\u001B[39m,\u001B[38;5;241m4\u001B[39m))\n\u001B[1;32m      2\u001B[0m ax \u001B[38;5;241m=\u001B[39m fig\u001B[38;5;241m.\u001B[39madd_subplot(\u001B[38;5;241m1\u001B[39m,\u001B[38;5;241m1\u001B[39m,\u001B[38;5;241m1\u001B[39m)\n\u001B[0;32m----> 3\u001B[0m ax\u001B[38;5;241m.\u001B[39mscatter(\u001B[38;5;28mrange\u001B[39m(\u001B[38;5;241m0\u001B[39m, \u001B[43mfs\u001B[49m\u001B[38;5;241m.\u001B[39mvalues\u001B[38;5;241m.\u001B[39mshape[\u001B[38;5;241m0\u001B[39m]),fs[\u001B[38;5;124m'\u001B[39m\u001B[38;5;124mSWdown\u001B[39m\u001B[38;5;124m'\u001B[39m]\u001B[38;5;241m.\u001B[39mvalues)\n\u001B[1;32m      4\u001B[0m ax\u001B[38;5;241m.\u001B[39mset_xticks(\u001B[38;5;28mrange\u001B[39m(\u001B[38;5;241m0\u001B[39m , fs\u001B[38;5;241m.\u001B[39mvalues\u001B[38;5;241m.\u001B[39mshape[\u001B[38;5;241m0\u001B[39m], \u001B[38;5;241m4\u001B[39m));\n\u001B[1;32m      5\u001B[0m \u001B[38;5;66;03m#ax.set_xticklabels([fs.index[i][0] for i in range(0,fs.index.shape[0], 4)]);\u001B[39;00m\n",
      "\u001B[0;31mNameError\u001B[0m: name 'fs' is not defined"
     ]
    },
    {
     "data": {
      "text/plain": "<Figure size 720x288 with 1 Axes>",
      "image/png": "[encoded data removed]"
     },
     "metadata": {
      "needs_background": "light"
     },
     "output_type": "display_data"
    }
   ],
   "source": [
    "fig = plt.figure(figsize=(10,4))\n",
    "ax = fig.add_subplot(1,1,1)\n",
    "ax.scatter(range(0, fs.values.shape[0]),fs['SWdown'].values)\n",
    "ax.set_xticks(range(0 , fs.values.shape[0], 4));\n",
    "#ax.set_xticklabels([fs.index[i][0] for i in range(0,fs.index.shape[0], 4)]);\n"
   ],
   "metadata": {
    "collapsed": false,
    "ExecuteTime": {
     "end_time": "2023-12-25T10:26:02.766812881Z",
     "start_time": "2023-12-25T10:26:02.503802852Z"
    }
   }
  },
  {
   "cell_type": "code",
   "execution_count": null,
   "outputs": [],
   "source": [
    "fs.values.shape[0]"
   ],
   "metadata": {
    "collapsed": false,
    "ExecuteTime": {
     "start_time": "2023-12-25T10:19:34.343041647Z"
    }
   }
  },
  {
   "cell_type": "code",
   "execution_count": null,
   "outputs": [],
   "source": [
    "fs.index.size"
   ],
   "metadata": {
    "collapsed": false,
    "ExecuteTime": {
     "start_time": "2023-12-25T10:19:34.345890875Z"
    }
   }
  },
  {
   "cell_type": "code",
   "execution_count": 25,
   "outputs": [],
   "source": [
    "def avg_timerange(df):\n",
    "    dfs = df.groupby([df.index.hour]).mean()\n",
    "    tx = pd.date_range('2000-01-01', periods=24, freq='h')\n",
    "    return dfs, tx"
   ],
   "metadata": {
    "collapsed": false,
    "ExecuteTime": {
     "end_time": "2023-12-25T10:27:12.503992990Z",
     "start_time": "2023-12-25T10:27:12.462134562Z"
    }
   }
  },
  {
   "cell_type": "code",
   "execution_count": 26,
   "outputs": [],
   "source": [
    "fs, tx = avg_timerange(fnet.df)"
   ],
   "metadata": {
    "collapsed": false,
    "ExecuteTime": {
     "end_time": "2023-12-25T10:27:13.188842205Z",
     "start_time": "2023-12-25T10:27:13.119045472Z"
    }
   }
  },
  {
   "cell_type": "code",
   "execution_count": 30,
   "outputs": [
    {
     "data": {
      "text/plain": "134.97730554254073"
     },
     "execution_count": 30,
     "metadata": {},
     "output_type": "execute_result"
    }
   ],
   "source": [
    "fs['SWdown'].values.mean()"
   ],
   "metadata": {
    "collapsed": false,
    "ExecuteTime": {
     "end_time": "2023-12-25T10:34:15.913141891Z",
     "start_time": "2023-12-25T10:34:15.909825864Z"
    }
   }
  },
  {
   "cell_type": "code",
   "execution_count": 35,
   "outputs": [],
   "source": [
    "dh = pd.DataFrame(fs['SWdown'].values / fs['SWdown'].values.mean())"
   ],
   "metadata": {
    "collapsed": false,
    "ExecuteTime": {
     "end_time": "2023-12-25T10:36:47.972131442Z",
     "start_time": "2023-12-25T10:36:47.968699652Z"
    }
   }
  },
  {
   "cell_type": "code",
   "execution_count": 39,
   "outputs": [],
   "source": [
    "dh.to_csv(\"SW_monthly_rad.csv\")"
   ],
   "metadata": {
    "collapsed": false,
    "ExecuteTime": {
     "end_time": "2023-12-25T10:38:45.906171783Z",
     "start_time": "2023-12-25T10:38:45.865443684Z"
    }
   }
  },
  {
   "cell_type": "code",
   "execution_count": 32,
   "outputs": [
    {
     "data": {
      "text/plain": "[<matplotlib.lines.Line2D at 0x7f09bf36f9a0>]"
     },
     "execution_count": 32,
     "metadata": {},
     "output_type": "execute_result"
    },
    {
     "data": {
      "text/plain": "<Figure size 432x288 with 1 Axes>",
      "image/png": "[encoded data removed]"
     },
     "metadata": {
      "needs_background": "light"
     },
     "output_type": "display_data"
    }
   ],
   "source": [
    "plt.plot(fs['SWdown'].values / fs['SWdown'].values.mean())"
   ],
   "metadata": {
    "collapsed": false,
    "ExecuteTime": {
     "end_time": "2023-12-25T10:35:36.428920046Z",
     "start_time": "2023-12-25T10:35:36.298444637Z"
    }
   }
  },
  {
   "cell_type": "code",
   "execution_count": null,
   "outputs": [],
   "source": [
    "qf.DataFrame['doy'].describe()"
   ],
   "metadata": {
    "collapsed": false
   }
  },
  {
   "cell_type": "code",
   "execution_count": null,
   "outputs": [],
   "source": [
    "qf.DataFrame['doy'].astype(int).describe()"
   ],
   "metadata": {
    "collapsed": false
   }
  },
  {
   "cell_type": "code",
   "execution_count": null,
   "outputs": [],
   "source": [
    "qf.DataFrame['year'].astype(int).describe()"
   ],
   "metadata": {
    "collapsed": false
   }
  },
  {
   "cell_type": "code",
   "execution_count": null,
   "outputs": [],
   "source": [
    "3 +4"
   ],
   "metadata": {
    "collapsed": false
   }
  },
  {
   "cell_type": "code",
   "execution_count": 2,
   "outputs": [],
   "source": [
    "exit"
   ],
   "metadata": {
    "collapsed": false,
    "ExecuteTime": {
     "end_time": "2023-12-23T14:56:50.837492831Z",
     "start_time": "2023-12-23T14:56:50.818679581Z"
    }
   }
  },
  {
   "cell_type": "code",
   "execution_count": null,
   "outputs": [],
   "source": [],
   "metadata": {
    "collapsed": false
   }
  }
 ],
 "metadata": {
  "kernelspec": {
   "display_name": "Python 3",
   "language": "python",
   "name": "python3"
  },
  "language_info": {
   "codemirror_mode": {
    "name": "ipython",
    "version": 2
   },
   "file_extension": ".py",
   "mimetype": "text/x-python",
   "name": "python",
   "nbconvert_exporter": "python",
   "pygments_lexer": "ipython2",
   "version": "2.7.6"
  }
 },
 "nbformat": 4,
 "nbformat_minor": 0
}
